{
 "cells": [
  {
   "cell_type": "code",
   "execution_count": 2,
   "metadata": {},
   "outputs": [],
   "source": [
    "import os\n",
    "import librosa\n",
    "import numpy as np\n",
    "import tqdm\n",
    "import subprocess\n",
    "import matplotlib.pyplot as plt\n",
    "import seaborn as sns\n",
    "import IPython.display as ipd\n",
    "import librosa.display\n",
    "%matplotlib inline"
   ]
  },
  {
   "cell_type": "code",
   "execution_count": 3,
   "metadata": {},
   "outputs": [],
   "source": [
    "feature_dim_1 = 20\n",
    "feature_dim_2 = 15\n",
    "channel = 1\n",
    "epochs = 100\n",
    "batch_size = 100\n",
    "verbose = 1\n",
    "num_classes = 19 #categories"
   ]
  },
  {
   "cell_type": "code",
   "execution_count": 4,
   "metadata": {},
   "outputs": [],
   "source": [
    "def wav2mfcc(file_path, max_pad_len=feature_dim_2):\n",
    "    wave, sr = librosa.load(file_path, mono=True, sr=None)\n",
    "    wave = wave[::3]\n",
    "    mfcc = librosa.feature.mfcc(wave, sr=16000)\n",
    "    pad_width = max_pad_len - mfcc.shape[1]\n",
    "    mfcc = np.pad(mfcc, pad_width=((0, 0), (0, pad_width)), mode='constant')\n",
    "    #print(mfcc.shape)\n",
    "    return mfcc\n",
    "\n",
    "def calculate_Mel_LogSpectrum_Mfcc(file_path,sampleRate = 16000):\n",
    "    max_pad_len = 15\n",
    "    samples, sample_rate = librosa.load(file_path)\n",
    "    S = librosa.feature.melspectrogram(samples, sr=16000, n_mels=128)\n",
    "    # Convert to log scale (dB). We'll use the peak power (max) as reference.\n",
    "    log_S = librosa.power_to_db(S, ref=np.max)\n",
    "    mfcc = librosa.feature.mfcc(S=log_S, n_mfcc=21)\n",
    "    return S, log_S, mfcc\n",
    "    #print(\"mfcc.shape[1] is {}\".format(mfcc.))\n",
    "    #pad_width = max_pad_len - mfcc.shape[1]\n",
    "    #mfcc = np.pad(mfcc, pad_width=((0, 0), (0, pad_width)), mode='constant')\n",
    "    \n",
    "    \n",
    "def Draw_MelSpectrogram_LogS_MFCC(wavfilePath,samplerate=16000):\n",
    "    _melspectrum, _log_s, _mfcc =  calculate_Mel_LogSpectrum_Mfcc(wavfilePath)\n",
    "    delta2_mfcc = librosa.feature.delta(_mfcc, order=2)\n",
    "    print(\"delta2_mfcc shape is {}\".format(delta2_mfcc.shape))\n",
    "    #Draw MelSpectrogram\n",
    "    plt.figure(figsize=(12, 4))\n",
    "    librosa.display.specshow(_log_s, sr=samplerate, x_axis='time', y_axis='mel')\n",
    "    plt.title('Mel power spectrogram ')\n",
    "    plt.colorbar(format='%+02.0f dB')\n",
    "    plt.tight_layout()\n",
    "    #Draw MFCC\n",
    "    plt.figure(figsize=(12, 4))\n",
    "    librosa.display.specshow(delta2_mfcc)\n",
    "    plt.ylabel('MFCC coeffs')\n",
    "    plt.xlabel('Time')\n",
    "    plt.title('MFCC')\n",
    "    plt.colorbar()\n",
    "    plt.tight_layout()\n",
    "    print(\"mfcc shape is : {}\".format(_mfcc.shape))\n",
    "    \n",
    "def drawNpy(npyFile):\n",
    "    img_array = np.load('filename.npy')\n",
    "    plt.imshow(img_array,cmap='grey')\n",
    "    plt.show()"
   ]
  },
  {
   "cell_type": "code",
   "execution_count": 5,
   "metadata": {},
   "outputs": [
    {
     "ename": "NameError",
     "evalue": "name 'sun_test_file_path' is not defined",
     "output_type": "error",
     "traceback": [
      "\u001b[0;31m---------------------------------------------------------------------------\u001b[0m",
      "\u001b[0;31mNameError\u001b[0m                                 Traceback (most recent call last)",
      "\u001b[0;32m<ipython-input-5-1e61e3b08078>\u001b[0m in \u001b[0;36m<module>\u001b[0;34m()\u001b[0m\n\u001b[1;32m      9\u001b[0m \u001b[0;31m#calculateMFCC(sun_test_file_path)\u001b[0m\u001b[0;34m\u001b[0m\u001b[0;34m\u001b[0m\u001b[0;34m\u001b[0m\u001b[0m\n\u001b[1;32m     10\u001b[0m \u001b[0;31m#wav2mfcc(sun_test_file_path)\u001b[0m\u001b[0;34m\u001b[0m\u001b[0;34m\u001b[0m\u001b[0;34m\u001b[0m\u001b[0m\n\u001b[0;32m---> 11\u001b[0;31m \u001b[0mDraw_MelSpectrogram_LogS_MFCC\u001b[0m\u001b[0;34m(\u001b[0m\u001b[0msun_test_file_path\u001b[0m\u001b[0;34m)\u001b[0m\u001b[0;34m\u001b[0m\u001b[0;34m\u001b[0m\u001b[0m\n\u001b[0m\u001b[1;32m     12\u001b[0m \u001b[0mDraw_MelSpectrogram_LogS_MFCC\u001b[0m\u001b[0;34m(\u001b[0m\u001b[0msun_test_file_path2\u001b[0m\u001b[0;34m)\u001b[0m\u001b[0;34m\u001b[0m\u001b[0;34m\u001b[0m\u001b[0m\n",
      "\u001b[0;31mNameError\u001b[0m: name 'sun_test_file_path' is not defined"
     ]
    }
   ],
   "source": [
    "sun_test_file_path1 = \"../DysSpeech_Corpora/DrSun/filtered_train_wavfiles/1/DrSun0822_4711_0_rec.wav\"\n",
    "sun_test_file_path2 = \"../DysSpeech_Corpora/DrSun/filtered_train_wavfiles/1/DrSun0822_4711_1_rec.wav\"\n",
    "sun_test_file_path3 = \"../DysSpeech_Corpora/DrSun/filtered_train_wavfiles/1/DrSun0822_4711_2_rec.wav\"\n",
    "sun_test_file_path4 = \"../DysSpeech_Corpora/DrSun/filtered_train_wavfiles/1/DrSun0822_4711_3_rec.wav\"\n",
    "sun_test_file_path5 = \"../DysSpeech_Corpora/DrSun/filtered_train_wavfiles/1/DrSun0822_4711_4_rec.wav\"\n",
    "sun_test_file_path6 = \"../DysSpeech_Corpora/DrSun/filtered_train_wavfiles/1/DrSun0822_4711_5_rec.wav\"\n",
    "#sun_test_file_path7 = \"../DysSpeech_Corpora/DrSun/filtered_train_wavfiles/1/DrSun0822_4711_6_rec.wav\"\n",
    "#sun_test_file_path8 = \"../DysSpeech_Corpora/DrSun/filtered_train_wavfiles/1/DrSun0822_4711_7_rec.wav\"\n",
    "#calculateMFCC(sun_test_file_path)\n",
    "#wav2mfcc(sun_test_file_path)\n",
    "Draw_MelSpectrogram_LogS_MFCC(sun_test_file_path)\n",
    "Draw_MelSpectrogram_LogS_MFCC(sun_test_file_path2)"
   ]
  },
  {
   "cell_type": "code",
   "execution_count": null,
   "metadata": {},
   "outputs": [],
   "source": [
    "def output_spectrum_info(specData):\n",
    "    print(\"Spectrum is type of {}\".format(type(specData)))\n",
    "    print(\"Spectrum shape is {}\".format(specData.shape))\n",
    "    \n",
    "def save_mfcc_to_array(mfccData):\n",
    "    pass\n",
    "    \n",
    "def save_mels_to_array(melsData,targetPath):\n",
    "    pass"
   ]
  },
  {
   "cell_type": "code",
   "execution_count": null,
   "metadata": {},
   "outputs": [],
   "source": [
    "_melspectrum, _log_s, _mfcc =  calculate_Mel_LogSpectrum_Mfcc(sun_test_file_path1)\n",
    "delta2_mfcc_ = librosa.feature.delta(_mfcc, order=2)\n",
    "output_spectrum_info(delta2_mfcc_)"
   ]
  },
  {
   "cell_type": "markdown",
   "metadata": {},
   "source": [
    "# Spectrum calculation"
   ]
  },
  {
   "cell_type": "code",
   "execution_count": 6,
   "metadata": {},
   "outputs": [],
   "source": [
    "def log_specgram(audio, sample_rate, window_size=20,\n",
    "                 step_size=10, eps=1e-10):\n",
    "    nperseg = int(round(window_size * sample_rate / 1e3))\n",
    "    noverlap = int(round(step_size * sample_rate / 1e3))\n",
    "    freqs, times, spec = signal.spectrogram(audio,\n",
    "                                    fs=sample_rate,\n",
    "                                    window='hann',\n",
    "                                    nperseg=nperseg,\n",
    "                                    noverlap=noverlap,\n",
    "                                    detrend=False)\n",
    "    return freqs, times, np.log(spec.T.astype(np.float32) + eps)"
   ]
  },
  {
   "cell_type": "markdown",
   "metadata": {},
   "source": [
    "#"
   ]
  },
  {
   "cell_type": "code",
   "execution_count": 7,
   "metadata": {},
   "outputs": [],
   "source": [
    "import scipy.io.wavfile as wav\n",
    "from numpy.lib import stride_tricks"
   ]
  },
  {
   "cell_type": "code",
   "execution_count": 8,
   "metadata": {},
   "outputs": [],
   "source": [
    "def stft(sig, frameSize, overlapFac=0.5, window=np.hanning):\n",
    "    win = window(frameSize)\n",
    "    hopSize = int(frameSize - np.floor(overlapFac * frameSize))\n",
    "    \n",
    "    # zeros at beginning (thus center of 1st window should be for sample nr. 0)\n",
    "    samples = np.append(np.zeros(np.floor(frameSize/2.0)), sig)    \n",
    "    # cols for windowing\n",
    "    cols = np.ceil( (len(samples) - frameSize) / float(hopSize)) + 1\n",
    "    # zeros at end (thus samples can be fully covered by frames)\n",
    "    samples = np.append(samples, np.zeros(frameSize))\n",
    "    \n",
    "    frames = stride_tricks.as_strided(samples, shape=(cols, frameSize), strides=(samples.strides[0]*hopSize, samples.strides[0])).copy()\n",
    "    frames *= win\n",
    "    \n",
    "    return np.fft.rfft(frames)\n",
    "\n",
    "\"\"\" scale frequency axis logarithmically \"\"\"    \n",
    "def logscale_spec(spec, sr=44100, factor=20.):\n",
    "    timebins, freqbins = np.shape(spec)\n",
    "\n",
    "    scale = np.linspace(0, 1, freqbins) ** factor\n",
    "    scale *= (freqbins-1)/max(scale)\n",
    "    scale = np.unique(np.round(scale))\n",
    "    \n",
    "    # create spectrogram with new freq bins\n",
    "    newspec = np.complex128(np.zeros([timebins, len(scale)]))\n",
    "    for i in range(0, len(scale)):\n",
    "        if i == len(scale)-1:\n",
    "            newspec[:,i] = np.sum(spec[:,scale[i]:], axis=1)\n",
    "        else:        \n",
    "            newspec[:,i] = np.sum(spec[:,scale[i]:scale[i+1]], axis=1)\n",
    "    \n",
    "    # list center freq of bins\n",
    "    allfreqs = np.abs(np.fft.fftfreq(freqbins*2, 1./sr)[:freqbins+1])\n",
    "    freqs = []\n",
    "    for i in range(0, len(scale)):\n",
    "        if i == len(scale)-1:\n",
    "            freqs += [np.mean(allfreqs[scale[i]:])]\n",
    "        else:\n",
    "            freqs += [np.mean(allfreqs[scale[i]:scale[i+1]])]\n",
    "    \n",
    "    return newspec, freqs"
   ]
  },
  {
   "cell_type": "code",
   "execution_count": null,
   "metadata": {},
   "outputs": [],
   "source": []
  }
 ],
 "metadata": {
  "kernelspec": {
   "display_name": "Python 3",
   "language": "python",
   "name": "python3"
  },
  "language_info": {
   "codemirror_mode": {
    "name": "ipython",
    "version": 3
   },
   "file_extension": ".py",
   "mimetype": "text/x-python",
   "name": "python",
   "nbconvert_exporter": "python",
   "pygments_lexer": "ipython3",
   "version": "3.7.1"
  }
 },
 "nbformat": 4,
 "nbformat_minor": 2
}
