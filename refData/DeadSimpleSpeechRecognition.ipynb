{
 "cells": [
  {
   "cell_type": "code",
   "execution_count": 1,
   "metadata": {},
   "outputs": [
    {
     "name": "stderr",
     "output_type": "stream",
     "text": [
      "Using TensorFlow backend.\n",
      "Saving vectors of label - 'bed': 100%|██████████| 1713/1713 [00:07<00:00, 215.90it/s]\n",
      "Saving vectors of label - 'cat': 100%|██████████| 1733/1733 [00:04<00:00, 350.55it/s]\n",
      "Saving vectors of label - 'happy': 100%|██████████| 1742/1742 [00:05<00:00, 330.67it/s]\n"
     ]
    }
   ],
   "source": [
    "%load_ext autoreload\n",
    "%autoreload 2\n",
    "\n",
    "from preprocess import *\n",
    "import keras\n",
    "from keras.models import Sequential\n",
    "from keras.layers import Dense, Dropout, Flatten, Conv2D, MaxPooling2D\n",
    "from keras.utils import to_categorical\n",
    "\n",
    "# Second dimension of the feature is dim2\n",
    "feature_dim_2 = 11\n",
    "\n",
    "# Save data to array file first\n",
    "save_data_to_array(max_len=feature_dim_2)\n",
    "\n",
    "# # Loading train set and test set\n",
    "X_train, X_test, y_train, y_test = get_train_test()\n",
    "\n",
    "# # Feature dimension\n",
    "feature_dim_1 = 20\n",
    "channel = 1\n",
    "epochs = 50\n",
    "batch_size = 100\n",
    "verbose = 1\n",
    "num_classes = 3\n",
    "\n",
    "# Reshaping to perform 2D convolution\n",
    "X_train = X_train.reshape(X_train.shape[0], feature_dim_1, feature_dim_2, channel)\n",
    "X_test = X_test.reshape(X_test.shape[0], feature_dim_1, feature_dim_2, channel)\n",
    "\n",
    "y_train_hot = to_categorical(y_train)\n",
    "y_test_hot = to_categorical(y_test)"
   ]
  },
  {
   "cell_type": "code",
   "execution_count": 2,
   "metadata": {},
   "outputs": [],
   "source": [
    "def get_model():\n",
    "    model = Sequential()\n",
    "    model.add(Conv2D(32, kernel_size=(2, 2), activation='relu', input_shape=(feature_dim_1, feature_dim_2, channel)))\n",
    "    model.add(Conv2D(48, kernel_size=(2, 2), activation='relu'))\n",
    "    model.add(Conv2D(120, kernel_size=(2, 2), activation='relu'))\n",
    "    model.add(MaxPooling2D(pool_size=(2, 2)))\n",
    "    model.add(Dropout(0.25))\n",
    "    model.add(Flatten())\n",
    "    model.add(Dense(128, activation='relu'))\n",
    "    model.add(Dropout(0.25))\n",
    "    model.add(Dense(64, activation='relu'))\n",
    "    model.add(Dropout(0.4))\n",
    "    model.add(Dense(num_classes, activation='softmax'))\n",
    "    model.compile(loss=keras.losses.categorical_crossentropy,\n",
    "                  optimizer=keras.optimizers.Adadelta(),\n",
    "                  metrics=['accuracy'])\n",
    "    return model\n",
    "\n",
    "# Predicts one sample\n",
    "def predict(filepath, model):\n",
    "    sample = wav2mfcc(filepath)\n",
    "    sample_reshaped = sample.reshape(1, feature_dim_1, feature_dim_2, channel)\n",
    "    return get_labels()[0][\n",
    "            np.argmax(model.predict(sample_reshaped))\n",
    "    ]"
   ]
  },
  {
   "cell_type": "markdown",
   "metadata": {},
   "source": [
    "# Building The Model Then Training it"
   ]
  },
  {
   "cell_type": "code",
   "execution_count": 3,
   "metadata": {},
   "outputs": [
    {
     "name": "stdout",
     "output_type": "stream",
     "text": [
      "Train on 3112 samples, validate on 2076 samples\n",
      "Epoch 1/50\n",
      "3112/3112 [==============================] - 2s 532us/step - loss: 1.4140 - acc: 0.4200 - val_loss: 1.0125 - val_acc: 0.4422\n",
      "Epoch 2/50\n",
      "3112/3112 [==============================] - 0s 146us/step - loss: 0.9526 - acc: 0.5562 - val_loss: 0.7775 - val_acc: 0.6763\n",
      "Epoch 3/50\n",
      "3112/3112 [==============================] - 0s 146us/step - loss: 0.7673 - acc: 0.6722 - val_loss: 0.5033 - val_acc: 0.8213\n",
      "Epoch 4/50\n",
      "3112/3112 [==============================] - 0s 146us/step - loss: 0.6052 - acc: 0.7487 - val_loss: 0.4076 - val_acc: 0.8560\n",
      "Epoch 5/50\n",
      "3112/3112 [==============================] - 0s 147us/step - loss: 0.5353 - acc: 0.7921 - val_loss: 0.5033 - val_acc: 0.8039\n",
      "Epoch 6/50\n",
      "3112/3112 [==============================] - 1s 165us/step - loss: 0.4731 - acc: 0.8220 - val_loss: 0.3199 - val_acc: 0.8892\n",
      "Epoch 7/50\n",
      "3112/3112 [==============================] - 0s 150us/step - loss: 0.4048 - acc: 0.8458 - val_loss: 0.4085 - val_acc: 0.8468\n",
      "Epoch 8/50\n",
      "3112/3112 [==============================] - 0s 142us/step - loss: 0.3679 - acc: 0.8628 - val_loss: 0.2725 - val_acc: 0.9027\n",
      "Epoch 9/50\n",
      "3112/3112 [==============================] - 0s 146us/step - loss: 0.3274 - acc: 0.8837 - val_loss: 0.2435 - val_acc: 0.9123\n",
      "Epoch 10/50\n",
      "3112/3112 [==============================] - 0s 145us/step - loss: 0.2817 - acc: 0.8994 - val_loss: 0.3027 - val_acc: 0.8762\n",
      "Epoch 11/50\n",
      "3112/3112 [==============================] - 0s 154us/step - loss: 0.2661 - acc: 0.9065 - val_loss: 0.2985 - val_acc: 0.8858\n",
      "Epoch 12/50\n",
      "3112/3112 [==============================] - 0s 155us/step - loss: 0.2464 - acc: 0.9132 - val_loss: 0.2364 - val_acc: 0.9181\n",
      "Epoch 13/50\n",
      "3112/3112 [==============================] - 0s 151us/step - loss: 0.2153 - acc: 0.9232 - val_loss: 0.1781 - val_acc: 0.9350\n",
      "Epoch 14/50\n",
      "3112/3112 [==============================] - 0s 147us/step - loss: 0.1954 - acc: 0.9303 - val_loss: 0.2052 - val_acc: 0.9239\n",
      "Epoch 15/50\n",
      "3112/3112 [==============================] - 0s 141us/step - loss: 0.1769 - acc: 0.9389 - val_loss: 0.1874 - val_acc: 0.9364\n",
      "Epoch 16/50\n",
      "3112/3112 [==============================] - 0s 147us/step - loss: 0.1595 - acc: 0.9492 - val_loss: 0.2965 - val_acc: 0.9075\n",
      "Epoch 17/50\n",
      "3112/3112 [==============================] - 0s 160us/step - loss: 0.1569 - acc: 0.9438 - val_loss: 0.1974 - val_acc: 0.9374\n",
      "Epoch 18/50\n",
      "3112/3112 [==============================] - 2s 582us/step - loss: 0.1363 - acc: 0.9512 - val_loss: 0.1572 - val_acc: 0.9475\n",
      "Epoch 19/50\n",
      "3112/3112 [==============================] - 0s 146us/step - loss: 0.1325 - acc: 0.9524 - val_loss: 0.1493 - val_acc: 0.9465\n",
      "Epoch 20/50\n",
      "3112/3112 [==============================] - 0s 146us/step - loss: 0.1237 - acc: 0.9576 - val_loss: 0.1436 - val_acc: 0.9542\n",
      "Epoch 21/50\n",
      "3112/3112 [==============================] - 0s 146us/step - loss: 0.1189 - acc: 0.9605 - val_loss: 0.1588 - val_acc: 0.9461\n",
      "Epoch 22/50\n",
      "3112/3112 [==============================] - 0s 150us/step - loss: 0.0932 - acc: 0.9669 - val_loss: 0.1613 - val_acc: 0.9470\n",
      "Epoch 23/50\n",
      "3112/3112 [==============================] - 0s 146us/step - loss: 0.0924 - acc: 0.9672 - val_loss: 0.1421 - val_acc: 0.9465\n",
      "Epoch 24/50\n",
      "3112/3112 [==============================] - 0s 156us/step - loss: 0.0806 - acc: 0.9727 - val_loss: 0.1676 - val_acc: 0.9509\n",
      "Epoch 25/50\n",
      "3112/3112 [==============================] - 0s 152us/step - loss: 0.0798 - acc: 0.9724 - val_loss: 0.1856 - val_acc: 0.9446\n",
      "Epoch 26/50\n",
      "3112/3112 [==============================] - 0s 149us/step - loss: 0.0716 - acc: 0.9762 - val_loss: 0.1591 - val_acc: 0.9542\n",
      "Epoch 27/50\n",
      "3112/3112 [==============================] - 0s 138us/step - loss: 0.0717 - acc: 0.9749 - val_loss: 0.1420 - val_acc: 0.9566\n",
      "Epoch 28/50\n",
      "3112/3112 [==============================] - 0s 146us/step - loss: 0.0694 - acc: 0.9778 - val_loss: 0.1629 - val_acc: 0.9509\n",
      "Epoch 29/50\n",
      "3112/3112 [==============================] - 0s 151us/step - loss: 0.0628 - acc: 0.9791 - val_loss: 0.1411 - val_acc: 0.9557\n",
      "Epoch 30/50\n",
      "3112/3112 [==============================] - 0s 141us/step - loss: 0.0497 - acc: 0.9810 - val_loss: 0.1835 - val_acc: 0.9485\n",
      "Epoch 31/50\n",
      "3112/3112 [==============================] - 0s 145us/step - loss: 0.0620 - acc: 0.9775 - val_loss: 0.1922 - val_acc: 0.9398\n",
      "Epoch 32/50\n",
      "3112/3112 [==============================] - 0s 141us/step - loss: 0.0437 - acc: 0.9859 - val_loss: 0.1806 - val_acc: 0.9470\n",
      "Epoch 33/50\n",
      "3112/3112 [==============================] - 1s 164us/step - loss: 0.0402 - acc: 0.9871 - val_loss: 0.1803 - val_acc: 0.9489\n",
      "Epoch 34/50\n",
      "3112/3112 [==============================] - 1s 168us/step - loss: 0.0477 - acc: 0.9830 - val_loss: 0.1489 - val_acc: 0.9542\n",
      "Epoch 35/50\n",
      "3112/3112 [==============================] - 0s 151us/step - loss: 0.0398 - acc: 0.9868 - val_loss: 0.1529 - val_acc: 0.9557\n",
      "Epoch 36/50\n",
      "3112/3112 [==============================] - 1s 161us/step - loss: 0.0363 - acc: 0.9878 - val_loss: 0.1614 - val_acc: 0.9542\n",
      "Epoch 37/50\n",
      "3112/3112 [==============================] - 0s 149us/step - loss: 0.0281 - acc: 0.9900 - val_loss: 0.2085 - val_acc: 0.9499\n",
      "Epoch 38/50\n",
      "3112/3112 [==============================] - 0s 147us/step - loss: 0.0357 - acc: 0.9862 - val_loss: 0.1768 - val_acc: 0.9451\n",
      "Epoch 39/50\n",
      "3112/3112 [==============================] - 0s 141us/step - loss: 0.0305 - acc: 0.9891 - val_loss: 0.1925 - val_acc: 0.9489\n",
      "Epoch 40/50\n",
      "3112/3112 [==============================] - 0s 143us/step - loss: 0.0298 - acc: 0.9888 - val_loss: 0.1566 - val_acc: 0.9533\n",
      "Epoch 41/50\n",
      "3112/3112 [==============================] - 0s 143us/step - loss: 0.0244 - acc: 0.9916 - val_loss: 0.1810 - val_acc: 0.9480\n",
      "Epoch 42/50\n",
      "3112/3112 [==============================] - 0s 149us/step - loss: 0.0278 - acc: 0.9904 - val_loss: 0.1921 - val_acc: 0.9518\n",
      "Epoch 43/50\n",
      "3112/3112 [==============================] - 0s 147us/step - loss: 0.0183 - acc: 0.9939 - val_loss: 0.1695 - val_acc: 0.9552\n",
      "Epoch 44/50\n",
      "3112/3112 [==============================] - 0s 160us/step - loss: 0.0308 - acc: 0.9894 - val_loss: 0.1888 - val_acc: 0.9547\n",
      "Epoch 45/50\n",
      "3112/3112 [==============================] - 0s 151us/step - loss: 0.0218 - acc: 0.9936 - val_loss: 0.1974 - val_acc: 0.9475\n",
      "Epoch 46/50\n",
      "3112/3112 [==============================] - 0s 152us/step - loss: 0.0316 - acc: 0.9907 - val_loss: 0.1597 - val_acc: 0.9538\n",
      "Epoch 47/50\n",
      "3112/3112 [==============================] - 0s 151us/step - loss: 0.0174 - acc: 0.9945 - val_loss: 0.1751 - val_acc: 0.9552\n",
      "Epoch 48/50\n",
      "3112/3112 [==============================] - 0s 155us/step - loss: 0.0155 - acc: 0.9952 - val_loss: 0.2199 - val_acc: 0.9513\n",
      "Epoch 49/50\n",
      "3112/3112 [==============================] - 0s 150us/step - loss: 0.0321 - acc: 0.9894 - val_loss: 0.1798 - val_acc: 0.9571\n",
      "Epoch 50/50\n",
      "3112/3112 [==============================] - 0s 152us/step - loss: 0.0173 - acc: 0.9945 - val_loss: 0.1777 - val_acc: 0.9576\n"
     ]
    },
    {
     "data": {
      "text/plain": [
       "<keras.callbacks.History at 0x7fcecec04a90>"
      ]
     },
     "execution_count": 3,
     "metadata": {},
     "output_type": "execute_result"
    }
   ],
   "source": [
    "model = get_model()\n",
    "model.fit(X_train, y_train_hot, batch_size=batch_size, epochs=epochs, verbose=verbose, validation_data=(X_test, y_test_hot))"
   ]
  },
  {
   "cell_type": "markdown",
   "metadata": {},
   "source": [
    "## Prediction"
   ]
  },
  {
   "cell_type": "code",
   "execution_count": 5,
   "metadata": {},
   "outputs": [
    {
     "name": "stdout",
     "output_type": "stream",
     "text": [
      "bed\n"
     ]
    }
   ],
   "source": [
    "print(predict('./data/bed/004ae714_nohash_1.wav', model=model))"
   ]
  },
  {
   "cell_type": "code",
   "execution_count": null,
   "metadata": {},
   "outputs": [],
   "source": []
  }
 ],
 "metadata": {
  "kernelspec": {
   "display_name": "Python 3",
   "language": "python",
   "name": "python3"
  },
  "language_info": {
   "codemirror_mode": {
    "name": "ipython",
    "version": 3
   },
   "file_extension": ".py",
   "mimetype": "text/x-python",
   "name": "python",
   "nbconvert_exporter": "python",
   "pygments_lexer": "ipython3",
   "version": "3.5.2"
  }
 },
 "nbformat": 4,
 "nbformat_minor": 2
}
