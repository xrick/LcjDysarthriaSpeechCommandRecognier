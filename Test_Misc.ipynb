{
 "cells": [
  {
   "cell_type": "code",
   "execution_count": 137,
   "metadata": {},
   "outputs": [],
   "source": [
    "import os\n",
    "import audioUtils\n",
    "import keras\n",
    "import librosa\n",
    "import keras\n",
    "from keras.models import Sequential\n",
    "from keras.layers import Dense, Dropout, Flatten,Conv2D, MaxPooling2D\n",
    "from keras.utils import to_categorical\n",
    "import numpy as np\n",
    "import tqdm"
   ]
  },
  {
   "cell_type": "code",
   "execution_count": 175,
   "metadata": {},
   "outputs": [],
   "source": [
    "DATA_PATH = \"../../DeadSimpleSpeechRecognizor_Data/\"\n",
    "DYData_Path = \"../DysSpeech_Corpora/Linzy/linzyCut/train/\"\n",
    "DYSCmdCategs = {'one': 0, 'two' : 1, 'three' : 2, 'four' : 3, 'five' : 4, 'six' : 5, 'seven' : 6, 'eight' : 7, 'nine' : 8, 'close' : 9, 'up' : 10,\n",
    "                    'down' : 11, 'previous' : 12, 'next' : 13, 'in' : 14, 'out' : 15, 'left' : 16, 'right' : 17, 'home' : 18}\n",
    "#DYSCmdCategNum = [value for value in DYSCmdCategs.values()]\n",
    "\n",
    "inverseDYSCmdCategs = {0: 'one', 1: 'two', 2: 'three', 3: 'four', 4: 'five', 5: 'six', 6: 'seven', 7: 'eight', 8: 'nine', 9: 'close', 10: 'up', 11: 'down', 12: 'previous', 13: 'next', 14: 'in', 15: 'out', 16: 'left', 17: 'right', 18: 'home'}\n",
    "#{v: k for k, v in DYSCmdCategs.items()}\n",
    "#print(inverseDYSCmdCategs)"
   ]
  },
  {
   "cell_type": "code",
   "execution_count": 176,
   "metadata": {},
   "outputs": [
    {
     "name": "stdout",
     "output_type": "stream",
     "text": [
      "[0, 1, 2, 3, 4, 5, 6, 7, 8, 9, 10, 11, 12, 13, 14, 15, 16, 17, 18]\n"
     ]
    }
   ],
   "source": [
    "DYSCmdCategString = ['one', 'two', 'three', 'four', 'five', 'six', 'seven', 'eight', 'nine', 'close', 'up', 'down', 'previous', 'next', 'in', 'out', 'left', 'right', 'home']#[lbl for lbl in DYSCmdCategs]\n",
    "DYSCmdCategNum = [1, 2, 3, 4, 5, 6, 7, 8, 9, 10, 11, 12, 13, 14, 15, 16, 17, 18, 19]\n",
    "print(DYSCmdCategNum)"
   ]
  },
  {
   "cell_type": "code",
   "execution_count": 177,
   "metadata": {},
   "outputs": [],
   "source": [
    "def wav2mfcc(file_path, max_pad_len=11):\n",
    "    wave, sr = librosa.load(file_path, mono=True, sr=None)\n",
    "    wave = wave[::3]\n",
    "    mfcc = librosa.feature.mfcc(wave, sr=16000)\n",
    "    pad_width = max_pad_len - mfcc.shape[1]\n",
    "    mfcc = np.pad(mfcc, pad_width=((0, 0), (0, pad_width)), mode='constant')\n",
    "    return mfcc"
   ]
  },
  {
   "cell_type": "code",
   "execution_count": 181,
   "metadata": {},
   "outputs": [],
   "source": [
    "# Input: Folder Path\n",
    "# Output: Tuple (Label, Indices of the labels, one-hot encoded labels)\n",
    "def get_labels(path=DYData_Path):\n",
    "    labels = os.listdir(path)\n",
    "    label_indices = np.arange(0, len(labels))\n",
    "    return labels, label_indices, to_categorical(label_indices)"
   ]
  },
  {
   "cell_type": "code",
   "execution_count": 179,
   "metadata": {},
   "outputs": [],
   "source": [
    "feature_dim_1 = 20\n",
    "feature_dim_2 = 11\n",
    "channel = 1\n",
    "epochs = 100\n",
    "batch_size = 100\n",
    "verbose = 1\n",
    "num_classes = 19 #categories"
   ]
  },
  {
   "cell_type": "code",
   "execution_count": 180,
   "metadata": {},
   "outputs": [],
   "source": [
    "def run_main():\n",
    "    lbls, idices, encodingData = get_labels(path = DATA_PATH)\n",
    "    print(\"The labels is :\",lbls)\n",
    "    print(\"the label indices is:\", idices)\n",
    "    print(\"the encoded data is:\", encodingData)\n",
    "    print(\"Encoding the Dyspeech commands labels.......\")\n",
    "    dyEncodedData = to_categorical(DYSCmdCategNum)\n",
    "    print(\"the encoded speech command labels are:\", dyEncodedData)\n",
    "    print(\"Encoded Labels' shape is:\", dyEncodedData.shape)\n",
    "    "
   ]
  },
  {
   "cell_type": "code",
   "execution_count": 184,
   "metadata": {},
   "outputs": [],
   "source": [
    "def run_main2():\n",
    "    print(get_labels())"
   ]
  },
  {
   "cell_type": "code",
   "execution_count": 185,
   "metadata": {},
   "outputs": [
    {
     "name": "stdout",
     "output_type": "stream",
     "text": [
      "(['14next', '.DS_Store', '18right', '11up', 'extract_loudest_section', '9', '7', '17left', '6', '1', '8', '15in', '10close', '16out', '19home', '4', '3', '13previous', '2', '5', '12down'], array([ 0,  1,  2,  3,  4,  5,  6,  7,  8,  9, 10, 11, 12, 13, 14, 15, 16,\n",
      "       17, 18, 19, 20]), array([[1., 0., 0., 0., 0., 0., 0., 0., 0., 0., 0., 0., 0., 0., 0., 0.,\n",
      "        0., 0., 0., 0., 0.],\n",
      "       [0., 1., 0., 0., 0., 0., 0., 0., 0., 0., 0., 0., 0., 0., 0., 0.,\n",
      "        0., 0., 0., 0., 0.],\n",
      "       [0., 0., 1., 0., 0., 0., 0., 0., 0., 0., 0., 0., 0., 0., 0., 0.,\n",
      "        0., 0., 0., 0., 0.],\n",
      "       [0., 0., 0., 1., 0., 0., 0., 0., 0., 0., 0., 0., 0., 0., 0., 0.,\n",
      "        0., 0., 0., 0., 0.],\n",
      "       [0., 0., 0., 0., 1., 0., 0., 0., 0., 0., 0., 0., 0., 0., 0., 0.,\n",
      "        0., 0., 0., 0., 0.],\n",
      "       [0., 0., 0., 0., 0., 1., 0., 0., 0., 0., 0., 0., 0., 0., 0., 0.,\n",
      "        0., 0., 0., 0., 0.],\n",
      "       [0., 0., 0., 0., 0., 0., 1., 0., 0., 0., 0., 0., 0., 0., 0., 0.,\n",
      "        0., 0., 0., 0., 0.],\n",
      "       [0., 0., 0., 0., 0., 0., 0., 1., 0., 0., 0., 0., 0., 0., 0., 0.,\n",
      "        0., 0., 0., 0., 0.],\n",
      "       [0., 0., 0., 0., 0., 0., 0., 0., 1., 0., 0., 0., 0., 0., 0., 0.,\n",
      "        0., 0., 0., 0., 0.],\n",
      "       [0., 0., 0., 0., 0., 0., 0., 0., 0., 1., 0., 0., 0., 0., 0., 0.,\n",
      "        0., 0., 0., 0., 0.],\n",
      "       [0., 0., 0., 0., 0., 0., 0., 0., 0., 0., 1., 0., 0., 0., 0., 0.,\n",
      "        0., 0., 0., 0., 0.],\n",
      "       [0., 0., 0., 0., 0., 0., 0., 0., 0., 0., 0., 1., 0., 0., 0., 0.,\n",
      "        0., 0., 0., 0., 0.],\n",
      "       [0., 0., 0., 0., 0., 0., 0., 0., 0., 0., 0., 0., 1., 0., 0., 0.,\n",
      "        0., 0., 0., 0., 0.],\n",
      "       [0., 0., 0., 0., 0., 0., 0., 0., 0., 0., 0., 0., 0., 1., 0., 0.,\n",
      "        0., 0., 0., 0., 0.],\n",
      "       [0., 0., 0., 0., 0., 0., 0., 0., 0., 0., 0., 0., 0., 0., 1., 0.,\n",
      "        0., 0., 0., 0., 0.],\n",
      "       [0., 0., 0., 0., 0., 0., 0., 0., 0., 0., 0., 0., 0., 0., 0., 1.,\n",
      "        0., 0., 0., 0., 0.],\n",
      "       [0., 0., 0., 0., 0., 0., 0., 0., 0., 0., 0., 0., 0., 0., 0., 0.,\n",
      "        1., 0., 0., 0., 0.],\n",
      "       [0., 0., 0., 0., 0., 0., 0., 0., 0., 0., 0., 0., 0., 0., 0., 0.,\n",
      "        0., 1., 0., 0., 0.],\n",
      "       [0., 0., 0., 0., 0., 0., 0., 0., 0., 0., 0., 0., 0., 0., 0., 0.,\n",
      "        0., 0., 1., 0., 0.],\n",
      "       [0., 0., 0., 0., 0., 0., 0., 0., 0., 0., 0., 0., 0., 0., 0., 0.,\n",
      "        0., 0., 0., 1., 0.],\n",
      "       [0., 0., 0., 0., 0., 0., 0., 0., 0., 0., 0., 0., 0., 0., 0., 0.,\n",
      "        0., 0., 0., 0., 1.]], dtype=float32))\n"
     ]
    }
   ],
   "source": [
    "if __name__ == \"__main__\":\n",
    "    run_main2()"
   ]
  },
  {
   "cell_type": "markdown",
   "metadata": {},
   "source": [
    "# 以下測試MFCC"
   ]
  },
  {
   "cell_type": "code",
   "execution_count": 145,
   "metadata": {},
   "outputs": [],
   "source": [
    "basePathOfTrainData = \"../DysSpeech_Corpora/Linzy/linzyCut/train/\""
   ]
  },
  {
   "cell_type": "code",
   "execution_count": 146,
   "metadata": {},
   "outputs": [
    {
     "name": "stdout",
     "output_type": "stream",
     "text": [
      "firstLevelDirs :  ['14next', '18right', '11up', '9', '7', '17left', '6', '1', '8', '15in', '10close', '16out', '19home', '4', '3', '13previous', '2', '5', '12down']\n"
     ]
    }
   ],
   "source": [
    "def getNextLevelDirs(root):\n",
    "     return next(os.walk(root))[1]\n",
    "\n",
    "def getAllWavFiles():\n",
    "    _baseDir = '../DysSpeech_Corpora/Linzy/linzyCut/train/'\n",
    "    firstLevelDirs = getNextLevelDirs(_baseDir)\n",
    "    trainfiles = list()\n",
    "    for folder in firstLevelDirs:\n",
    "        d = os.path.join(_baseDir,folder)\n",
    "        #print(d)\n",
    "        #files = [os.path.join(d,f+'.npy') for f in next(os.walk(d))[2] if f.endswith('.wav')]\n",
    "        files = [os.path.join(d,f) for f in next(os.walk(d))[2] if f.endswith('.wav')]\n",
    "        #print(files)\n",
    "        #trainfiles.append([os.path.join(d,f+'.npy') for f in next(os.walk(d))[2] if f.endswith('.wav')])\n",
    "        trainfiles += files\n",
    "    \n",
    "def getAllFolder():\n",
    "    _baseDir = '../DysSpeech_Corpora/Linzy/linzyCut/train/'\n",
    "    firstLevelDirs = getNextLevelDirs(_baseDir)\n",
    "    print(\"firstLevelDirs : \", firstLevelDirs)\n",
    "    return firstLevelDirs\n",
    "\n",
    "ALL_Folders = getAllFolder()   "
   ]
  },
  {
   "cell_type": "code",
   "execution_count": 213,
   "metadata": {},
   "outputs": [],
   "source": [
    "#labelDict = {1:'one','14next':, '18right', '11up', '17left', , '15in', '10close', '16out', '19home',, '13previous', '12down'}\n",
    "folderList = ['1','2','3','4','5','6','7','8','9','10', '11', '12','13','14', '15','16','17','18','19']\n",
    "DSCmdLabels = ['one', 'two', 'three', 'four', 'five', 'six', 'seven', 'eight', 'nine', 'close', 'up', 'down', 'previous', 'next', 'in', 'out', 'left', 'right', 'home']\n",
    "def save_data_to_array(path=basePathOfTrainData, max_len=11):\n",
    "    #labels, _, _ = get_labels(path)\n",
    "\n",
    "    for folder in folderList:#DYSCmdCategString:\n",
    "        # Init mfcc vectors\n",
    "        mfcc_vectors = []\n",
    "        wavfiles = [basePathOfTrainData + folder +\"/\"+ wavfile for wavfile in os.listdir(path + folder+'/') if wavfile.endswith('.wav')]#if wavfile.endswith('.wav')\n",
    "        #wavfiles = [wavfile for wavfile in ]\n",
    "        print(\"Current folder is : \",folder)\n",
    "        #print(\"the whole files are : \",wavfiles)\n",
    "        #print(\"+++++++++++++++++++++++++++++++++++++\")\n",
    "        for wavfile in wavfiles:#tqdm(wavfiles, \"Saving vectors of label - '{}'\".format(folder)):\n",
    "            mfcc_ = wav2mfcc(wavfile)\n",
    "            mfcc_vectors.append(mfcc_)\n",
    "        print(\"length of mfcc_vectors is : \",len(mfcc_))\n",
    "        np.save(folder + '.npy', mfcc_vectors)"
   ]
  },
  {
   "cell_type": "code",
   "execution_count": 214,
   "metadata": {},
   "outputs": [
    {
     "name": "stdout",
     "output_type": "stream",
     "text": [
      "Current folder is :  1\n",
      "length of mfcc_vectors is :  20\n",
      "Current folder is :  2\n",
      "length of mfcc_vectors is :  20\n",
      "Current folder is :  3\n",
      "length of mfcc_vectors is :  20\n",
      "Current folder is :  4\n",
      "length of mfcc_vectors is :  20\n",
      "Current folder is :  5\n",
      "length of mfcc_vectors is :  20\n",
      "Current folder is :  6\n",
      "length of mfcc_vectors is :  20\n",
      "Current folder is :  7\n",
      "length of mfcc_vectors is :  20\n",
      "Current folder is :  8\n",
      "length of mfcc_vectors is :  20\n",
      "Current folder is :  9\n",
      "length of mfcc_vectors is :  20\n",
      "Current folder is :  10\n",
      "length of mfcc_vectors is :  20\n",
      "Current folder is :  11\n",
      "length of mfcc_vectors is :  20\n",
      "Current folder is :  12\n",
      "length of mfcc_vectors is :  20\n",
      "Current folder is :  13\n",
      "length of mfcc_vectors is :  20\n",
      "Current folder is :  14\n",
      "length of mfcc_vectors is :  20\n",
      "Current folder is :  15\n",
      "length of mfcc_vectors is :  20\n",
      "Current folder is :  16\n",
      "length of mfcc_vectors is :  20\n",
      "Current folder is :  17\n",
      "length of mfcc_vectors is :  20\n",
      "Current folder is :  18\n",
      "length of mfcc_vectors is :  20\n",
      "Current folder is :  19\n",
      "length of mfcc_vectors is :  20\n"
     ]
    }
   ],
   "source": [
    "save_data_to_array()"
   ]
  },
  {
   "cell_type": "code",
   "execution_count": 87,
   "metadata": {},
   "outputs": [],
   "source": [
    "#read all the audio data and convert them into mfcc\n",
    "testFile = DYData_Path+\"13previous/LinZY03_13_3.wav\"\n",
    "def testWavToMFCC(anAudioFile):\n",
    "    mfcc = wav2mfcc(anAudioFile)\n",
    "    return mfcc\n",
    "\n",
    "#_mfcc = testWavToMFCC(testFile)\n",
    "    \n",
    "#print(\"type of mfcc : \",type(_mfcc))\n",
    "#print(\"shape of mfcc : \",_mfcc.shape)"
   ]
  },
  {
   "cell_type": "code",
   "execution_count": 209,
   "metadata": {},
   "outputs": [],
   "source": [
    "from subprocess import call\n",
    "def extract_loudest_section(path=basePathOfTrainData):\n",
    "    #labels, _, _ = get_labels(path)\n",
    "    targetD = 0\n",
    "    for folder in folderList:#DYSCmdCategString:\n",
    "        # Init mfcc vectors\n",
    "        #mfcc_vectors = []\n",
    "        targetD +=1\n",
    "        targetDName = \"./template/dir/\" + str(targetD)\n",
    "        wavfiles = [basePathOfTrainData + folder +\"/\"+ wavfile for wavfile in os.listdir(path + folder+'/') if wavfile.endswith('.wav')]#if wavfile.endswith('.wav')\n",
    "        #wavfiles = [wavfile for wavfile in ]\n",
    "        print(\"Current folder is : \",folder)\n",
    "        #print(\"the whole files are : \",wavfiles)\n",
    "        #print(\"+++++++++++++++++++++++++++++++++++++\")\n",
    "        \n",
    "        for wavfile in wavfiles:#tqdm(wavfiles, \"Saving vectors of label - '{}'\".format(folder)):\n",
    "            #mfcc_ = wav2mfcc(wavfile)\n",
    "            #mfcc_vectors.append(mfcc_)\n",
    "            #wavfile = os.path.splitext(wavfile)[0]\n",
    "            print(\"processing file {}\".format(wavfile))\n",
    "            call([\"./extract_loudest_section\", wavfile, targetDName])\n",
    "            \n",
    "        #print(\"length of mfcc_vectors is : \",len(mfcc_))\n",
    "        #np.save(folder + '.npy', mfcc_vectors)"
   ]
  },
  {
   "cell_type": "code",
   "execution_count": 210,
   "metadata": {},
   "outputs": [
    {
     "name": "stdout",
     "output_type": "stream",
     "text": [
      "Current folder is :  1\n",
      "processing file ../DysSpeech_Corpora/Linzy/linzyCut/train/1/LinZY03_01_1.wav\n",
      "processing file ../DysSpeech_Corpora/Linzy/linzyCut/train/1/LinZY03_01_2.wav\n",
      "processing file ../DysSpeech_Corpora/Linzy/linzyCut/train/1/LinZY03_01_3.wav\n",
      "processing file ../DysSpeech_Corpora/Linzy/linzyCut/train/1/LinZY03_01_4.wav\n",
      "processing file ../DysSpeech_Corpora/Linzy/linzyCut/train/1/LinZY03_01_5.wav\n",
      "Current folder is :  2\n",
      "processing file ../DysSpeech_Corpora/Linzy/linzyCut/train/2/LinZY03_02_1.wav\n",
      "processing file ../DysSpeech_Corpora/Linzy/linzyCut/train/2/LinZY03_02_3.wav\n",
      "processing file ../DysSpeech_Corpora/Linzy/linzyCut/train/2/LinZY03_02_2.wav\n",
      "processing file ../DysSpeech_Corpora/Linzy/linzyCut/train/2/LinZY03_02_5.wav\n",
      "processing file ../DysSpeech_Corpora/Linzy/linzyCut/train/2/LinZY03_02_4.wav\n",
      "Current folder is :  3\n",
      "processing file ../DysSpeech_Corpora/Linzy/linzyCut/train/3/LinZY03_03_3.wav\n",
      "processing file ../DysSpeech_Corpora/Linzy/linzyCut/train/3/LinZY03_03_2.wav\n",
      "processing file ../DysSpeech_Corpora/Linzy/linzyCut/train/3/LinZY03_03_1.wav\n",
      "processing file ../DysSpeech_Corpora/Linzy/linzyCut/train/3/LinZY03_03_5.wav\n",
      "processing file ../DysSpeech_Corpora/Linzy/linzyCut/train/3/LinZY03_03_4.wav\n",
      "Current folder is :  4\n",
      "processing file ../DysSpeech_Corpora/Linzy/linzyCut/train/4/LinZY03_04_5.wav\n",
      "processing file ../DysSpeech_Corpora/Linzy/linzyCut/train/4/LinZY03_04_4.wav\n",
      "processing file ../DysSpeech_Corpora/Linzy/linzyCut/train/4/LinZY03_04_1.wav\n",
      "processing file ../DysSpeech_Corpora/Linzy/linzyCut/train/4/LinZY03_04_3.wav\n",
      "processing file ../DysSpeech_Corpora/Linzy/linzyCut/train/4/LinZY03_04_2.wav\n",
      "Current folder is :  5\n",
      "processing file ../DysSpeech_Corpora/Linzy/linzyCut/train/5/LinZY03_05_5.wav\n",
      "processing file ../DysSpeech_Corpora/Linzy/linzyCut/train/5/LinZY03_05_4.wav\n",
      "processing file ../DysSpeech_Corpora/Linzy/linzyCut/train/5/LinZY03_05_3.wav\n",
      "processing file ../DysSpeech_Corpora/Linzy/linzyCut/train/5/LinZY03_05_2.wav\n",
      "processing file ../DysSpeech_Corpora/Linzy/linzyCut/train/5/LinZY03_05_1.wav\n",
      "Current folder is :  6\n",
      "processing file ../DysSpeech_Corpora/Linzy/linzyCut/train/6/LinZY03_06_4.wav\n",
      "processing file ../DysSpeech_Corpora/Linzy/linzyCut/train/6/LinZY03_06_5.wav\n",
      "processing file ../DysSpeech_Corpora/Linzy/linzyCut/train/6/LinZY03_06_2.wav\n",
      "processing file ../DysSpeech_Corpora/Linzy/linzyCut/train/6/LinZY03_06_3.wav\n",
      "processing file ../DysSpeech_Corpora/Linzy/linzyCut/train/6/LinZY03_06_1.wav\n",
      "Current folder is :  7\n",
      "processing file ../DysSpeech_Corpora/Linzy/linzyCut/train/7/LinZY03_07_4.wav\n",
      "processing file ../DysSpeech_Corpora/Linzy/linzyCut/train/7/LinZY03_07_5.wav\n",
      "processing file ../DysSpeech_Corpora/Linzy/linzyCut/train/7/LinZY03_07_1.wav\n",
      "processing file ../DysSpeech_Corpora/Linzy/linzyCut/train/7/LinZY03_07_2.wav\n",
      "processing file ../DysSpeech_Corpora/Linzy/linzyCut/train/7/LinZY03_07_3.wav\n",
      "Current folder is :  8\n",
      "processing file ../DysSpeech_Corpora/Linzy/linzyCut/train/8/LinZY03_08_2.wav\n",
      "processing file ../DysSpeech_Corpora/Linzy/linzyCut/train/8/LinZY03_08_3.wav\n",
      "processing file ../DysSpeech_Corpora/Linzy/linzyCut/train/8/LinZY03_08_1.wav\n",
      "processing file ../DysSpeech_Corpora/Linzy/linzyCut/train/8/LinZY03_08_4.wav\n",
      "processing file ../DysSpeech_Corpora/Linzy/linzyCut/train/8/LinZY03_08_5.wav\n",
      "Current folder is :  9\n",
      "processing file ../DysSpeech_Corpora/Linzy/linzyCut/train/9/LinZY03_09_1.wav\n",
      "processing file ../DysSpeech_Corpora/Linzy/linzyCut/train/9/LinZY03_09_2.wav\n",
      "processing file ../DysSpeech_Corpora/Linzy/linzyCut/train/9/LinZY03_09_3.wav\n",
      "processing file ../DysSpeech_Corpora/Linzy/linzyCut/train/9/LinZY03_09_4.wav\n",
      "processing file ../DysSpeech_Corpora/Linzy/linzyCut/train/9/LinZY03_09_5.wav\n",
      "Current folder is :  10close\n",
      "processing file ../DysSpeech_Corpora/Linzy/linzyCut/train/10close/LinZY03_10_1.wav\n",
      "processing file ../DysSpeech_Corpora/Linzy/linzyCut/train/10close/LinZY03_10_3.wav\n",
      "processing file ../DysSpeech_Corpora/Linzy/linzyCut/train/10close/LinZY03_10_2.wav\n",
      "processing file ../DysSpeech_Corpora/Linzy/linzyCut/train/10close/LinZY03_10_5.wav\n",
      "processing file ../DysSpeech_Corpora/Linzy/linzyCut/train/10close/LinZY03_10_4.wav\n",
      "Current folder is :  11up\n",
      "processing file ../DysSpeech_Corpora/Linzy/linzyCut/train/11up/LinZY03_11_3.wav\n",
      "processing file ../DysSpeech_Corpora/Linzy/linzyCut/train/11up/LinZY03_11_2.wav\n",
      "processing file ../DysSpeech_Corpora/Linzy/linzyCut/train/11up/LinZY03_11_1.wav\n",
      "processing file ../DysSpeech_Corpora/Linzy/linzyCut/train/11up/LinZY03_11_5.wav\n",
      "processing file ../DysSpeech_Corpora/Linzy/linzyCut/train/11up/LinZY03_11_4.wav\n",
      "Current folder is :  12down\n",
      "processing file ../DysSpeech_Corpora/Linzy/linzyCut/train/12down/LinZY03_12_2.wav\n",
      "processing file ../DysSpeech_Corpora/Linzy/linzyCut/train/12down/LinZY03_12_3.wav\n",
      "processing file ../DysSpeech_Corpora/Linzy/linzyCut/train/12down/LinZY03_12_1.wav\n",
      "processing file ../DysSpeech_Corpora/Linzy/linzyCut/train/12down/LinZY03_12_4.wav\n",
      "processing file ../DysSpeech_Corpora/Linzy/linzyCut/train/12down/LinZY03_12_5.wav\n",
      "Current folder is :  13previous\n",
      "processing file ../DysSpeech_Corpora/Linzy/linzyCut/train/13previous/LinZY03_13_1.wav\n",
      "processing file ../DysSpeech_Corpora/Linzy/linzyCut/train/13previous/LinZY03_13_2.wav\n",
      "processing file ../DysSpeech_Corpora/Linzy/linzyCut/train/13previous/LinZY03_13_3.wav\n",
      "processing file ../DysSpeech_Corpora/Linzy/linzyCut/train/13previous/LinZY03_13_4.wav\n",
      "processing file ../DysSpeech_Corpora/Linzy/linzyCut/train/13previous/LinZY03_13_5.wav\n",
      "Current folder is :  14next\n",
      "processing file ../DysSpeech_Corpora/Linzy/linzyCut/train/14next/LinZY03_14_4.wav\n",
      "processing file ../DysSpeech_Corpora/Linzy/linzyCut/train/14next/LinZY03_14_5.wav\n",
      "processing file ../DysSpeech_Corpora/Linzy/linzyCut/train/14next/LinZY03_14_2.wav\n",
      "processing file ../DysSpeech_Corpora/Linzy/linzyCut/train/14next/LinZY03_14_3.wav\n",
      "processing file ../DysSpeech_Corpora/Linzy/linzyCut/train/14next/LinZY03_14_1.wav\n",
      "Current folder is :  15in\n",
      "processing file ../DysSpeech_Corpora/Linzy/linzyCut/train/15in/LinZY03_15_4.wav\n",
      "processing file ../DysSpeech_Corpora/Linzy/linzyCut/train/15in/LinZY03_15_5.wav\n",
      "processing file ../DysSpeech_Corpora/Linzy/linzyCut/train/15in/LinZY03_15_1.wav\n",
      "processing file ../DysSpeech_Corpora/Linzy/linzyCut/train/15in/LinZY03_15_2.wav\n",
      "processing file ../DysSpeech_Corpora/Linzy/linzyCut/train/15in/LinZY03_15_3.wav\n",
      "Current folder is :  16out\n",
      "processing file ../DysSpeech_Corpora/Linzy/linzyCut/train/16out/LinZY03_16_5.wav\n",
      "processing file ../DysSpeech_Corpora/Linzy/linzyCut/train/16out/LinZY03_16_4.wav\n",
      "processing file ../DysSpeech_Corpora/Linzy/linzyCut/train/16out/LinZY03_16_1.wav\n",
      "processing file ../DysSpeech_Corpora/Linzy/linzyCut/train/16out/LinZY03_16_3.wav\n",
      "processing file ../DysSpeech_Corpora/Linzy/linzyCut/train/16out/LinZY03_16_2.wav\n",
      "Current folder is :  17left\n",
      "processing file ../DysSpeech_Corpora/Linzy/linzyCut/train/17left/LinZY03_17_5.wav\n",
      "processing file ../DysSpeech_Corpora/Linzy/linzyCut/train/17left/LinZY03_17_4.wav\n",
      "processing file ../DysSpeech_Corpora/Linzy/linzyCut/train/17left/LinZY03_17_3.wav\n",
      "processing file ../DysSpeech_Corpora/Linzy/linzyCut/train/17left/LinZY03_17_2.wav\n",
      "processing file ../DysSpeech_Corpora/Linzy/linzyCut/train/17left/LinZY03_17_1.wav\n",
      "Current folder is :  18right\n",
      "processing file ../DysSpeech_Corpora/Linzy/linzyCut/train/18right/LinZY03_18_1.wav\n",
      "processing file ../DysSpeech_Corpora/Linzy/linzyCut/train/18right/LinZY03_18_3.wav\n",
      "processing file ../DysSpeech_Corpora/Linzy/linzyCut/train/18right/LinZY03_18_2.wav\n",
      "processing file ../DysSpeech_Corpora/Linzy/linzyCut/train/18right/LinZY03_18_5.wav\n",
      "processing file ../DysSpeech_Corpora/Linzy/linzyCut/train/18right/LinZY03_18_4.wav\n",
      "Current folder is :  19home\n",
      "processing file ../DysSpeech_Corpora/Linzy/linzyCut/train/19home/LinZY03_19_3.wav\n",
      "processing file ../DysSpeech_Corpora/Linzy/linzyCut/train/19home/LinZY03_19_2.wav\n",
      "processing file ../DysSpeech_Corpora/Linzy/linzyCut/train/19home/LinZY03_19_1.wav\n",
      "processing file ../DysSpeech_Corpora/Linzy/linzyCut/train/19home/LinZY03_19_5.wav\n",
      "processing file ../DysSpeech_Corpora/Linzy/linzyCut/train/19home/LinZY03_19_4.wav\n"
     ]
    }
   ],
   "source": [
    "extract_loudest_section()"
   ]
  },
  {
   "cell_type": "code",
   "execution_count": 201,
   "metadata": {},
   "outputs": [],
   "source": [
    "def makedir():\n",
    "    basepath = \"./template/dir/\"\n",
    "    for idx in range(19):\n",
    "        dirname = basepath+str((idx+1))\n",
    "        print(\"making dir {}\".format(dirname))\n",
    "        os.makedirs(dirname)"
   ]
  },
  {
   "cell_type": "code",
   "execution_count": 202,
   "metadata": {
    "scrolled": true
   },
   "outputs": [
    {
     "name": "stdout",
     "output_type": "stream",
     "text": [
      "making dir ./template/dir/1\n",
      "making dir ./template/dir/2\n",
      "making dir ./template/dir/3\n",
      "making dir ./template/dir/4\n",
      "making dir ./template/dir/5\n",
      "making dir ./template/dir/6\n",
      "making dir ./template/dir/7\n",
      "making dir ./template/dir/8\n",
      "making dir ./template/dir/9\n",
      "making dir ./template/dir/10\n",
      "making dir ./template/dir/11\n",
      "making dir ./template/dir/12\n",
      "making dir ./template/dir/13\n",
      "making dir ./template/dir/14\n",
      "making dir ./template/dir/15\n",
      "making dir ./template/dir/16\n",
      "making dir ./template/dir/17\n",
      "making dir ./template/dir/18\n",
      "making dir ./template/dir/19\n"
     ]
    }
   ],
   "source": [
    "makedir()"
   ]
  },
  {
   "cell_type": "code",
   "execution_count": 215,
   "metadata": {},
   "outputs": [],
   "source": [
    "wavfiles2 = [\"../DysSpeech_Corpora/Linzy/linzyCut/test/\"+ wavfile for wavfile in os.listdir(\"../DysSpeech_Corpora/Linzy/linzyCut/test/\") \n",
    "             if wavfile.endswith('.wav')]\n",
    "for wavfile2 in wavfiles2:\n",
    "    call([\"./extract_loudest_section\", wavfile2, \"../DysSpeech_Corpora/Linzy/linzyCut/test2/\"])\n",
    "    "
   ]
  },
  {
   "cell_type": "code",
   "execution_count": null,
   "metadata": {},
   "outputs": [],
   "source": []
  }
 ],
 "metadata": {
  "kernelspec": {
   "display_name": "Python 3",
   "language": "python",
   "name": "python3"
  },
  "language_info": {
   "codemirror_mode": {
    "name": "ipython",
    "version": 3
   },
   "file_extension": ".py",
   "mimetype": "text/x-python",
   "name": "python",
   "nbconvert_exporter": "python",
   "pygments_lexer": "ipython3",
   "version": "3.6.5"
  }
 },
 "nbformat": 4,
 "nbformat_minor": 2
}
